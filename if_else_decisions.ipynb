{
 "cells": [
  {
   "cell_type": "markdown",
   "id": "4bdc148f-a2cb-4550-b2af-190c9f61bf0a",
   "metadata": {},
   "source": [
    "### If, Else, Elif - Making Decisions in Python"
   ]
  },
  {
   "cell_type": "code",
   "execution_count": 82,
   "id": "862d607b-2664-438e-8e00-9fccfbf79e97",
   "metadata": {},
   "outputs": [
    {
     "name": "stdout",
     "output_type": "stream",
     "text": [
      "Stay inside and learn how to code\n"
     ]
    }
   ],
   "source": [
    "is_raining = True\n",
    "\n",
    "if is_raining:\n",
    "    print(\"Stay inside and learn how to code\")"
   ]
  },
  {
   "cell_type": "markdown",
   "id": "0ee11d57-3fc8-44d1-a92b-31f5d58fabcf",
   "metadata": {},
   "source": [
    "### Practice 1: Are You Hungry"
   ]
  },
  {
   "cell_type": "code",
   "execution_count": 83,
   "id": "16194b5e-0642-453b-b3e0-2370cb69fbd9",
   "metadata": {},
   "outputs": [
    {
     "name": "stdout",
     "output_type": "stream",
     "text": [
      "Time to eat something!\n"
     ]
    }
   ],
   "source": [
    "hungry = True\n",
    "\n",
    "if hungry:\n",
    "    print(\"Time to eat something!\")"
   ]
  },
  {
   "cell_type": "markdown",
   "id": "f5677b53-9829-485d-949b-59fa2e0bebd2",
   "metadata": {},
   "source": [
    "### What If it's not True?"
   ]
  },
  {
   "cell_type": "code",
   "execution_count": 84,
   "id": "3b9aaaa0-ae36-4246-b67f-b5852d4183d5",
   "metadata": {},
   "outputs": [
    {
     "name": "stdout",
     "output_type": "stream",
     "text": [
      "You are not hungry yet!\n"
     ]
    }
   ],
   "source": [
    "hungry = False\n",
    "\n",
    "if hungry:\n",
    "    print(\"Time to eat something!\")\n",
    "else:\n",
    "    print(\"You are not hungry yet!\")"
   ]
  },
  {
   "cell_type": "markdown",
   "id": "d3a8536f-6acd-4815-844b-2a68f8591681",
   "metadata": {},
   "source": [
    "### elif: When there are multiple conditions"
   ]
  },
  {
   "cell_type": "code",
   "execution_count": 85,
   "id": "19ffade7-f48a-4c82-b8e8-49778683ce1d",
   "metadata": {},
   "outputs": [
    {
     "name": "stdout",
     "output_type": "stream",
     "text": [
      "Nice and warm outside\n"
     ]
    }
   ],
   "source": [
    "temperature = 30\n",
    "\n",
    "if temperature > 35:\n",
    "    print(\"It is super hot\")\n",
    "elif temperature > 20:\n",
    "    print(\"Nice and warm outside\")\n",
    "else:\n",
    "    print(\"It is pretty cold\")"
   ]
  },
  {
   "cell_type": "markdown",
   "id": "960156a2-aa11-4daa-96f9-ecbfbbbee0eb",
   "metadata": {},
   "source": [
    "### Practice 2: Voting Age Checker"
   ]
  },
  {
   "cell_type": "code",
   "execution_count": 86,
   "id": "c0aa8292-6c05-4a58-8853-aec71dda7c9b",
   "metadata": {},
   "outputs": [
    {
     "name": "stdout",
     "output_type": "stream",
     "text": [
      "Yes you can vote\n"
     ]
    }
   ],
   "source": [
    "age = 19\n",
    "\n",
    "if age >= 18:\n",
    "    print(\"Yes you can vote\")\n",
    "else:\n",
    "    print(\"You are too young to vote\")"
   ]
  },
  {
   "cell_type": "markdown",
   "id": "ee9f67ee-e106-455b-b67d-97c365c23cef",
   "metadata": {},
   "source": [
    "### Practice 3: Number Guessing Game (Basic)"
   ]
  },
  {
   "cell_type": "code",
   "execution_count": 87,
   "id": "675cafce-8df4-4032-a16a-1acac91b685a",
   "metadata": {},
   "outputs": [
    {
     "name": "stdout",
     "output_type": "stream",
     "text": [
      "Too low\n"
     ]
    }
   ],
   "source": [
    "secret = 5\n",
    "guess = 4\n",
    "\n",
    "if guess == secret:\n",
    "    print(\"You have guessed it right\")\n",
    "elif guess > secret:\n",
    "    print(\"Too high\")\n",
    "else:\n",
    "    print(\"Too low\")"
   ]
  },
  {
   "cell_type": "markdown",
   "id": "01dff319-2c97-41ce-a405-6edbb27e3e9b",
   "metadata": {},
   "source": [
    "### Practice 4: Password Checker (Simple)"
   ]
  },
  {
   "cell_type": "code",
   "execution_count": 88,
   "id": "c5979231-59b9-47e9-9fb2-088094a603a8",
   "metadata": {},
   "outputs": [
    {
     "name": "stdout",
     "output_type": "stream",
     "text": [
      "Access granted\n"
     ]
    }
   ],
   "source": [
    "password = \"secret123\"\n",
    "\n",
    "if password == \"secret123\":\n",
    "    print(\"Access granted\")\n",
    "else:\n",
    "    print(\"Wrong password\")"
   ]
  },
  {
   "cell_type": "markdown",
   "id": "ddd366c6-892a-43f7-9c57-b0019c0288c1",
   "metadata": {},
   "source": [
    "### Portfolio Project: Student Grade Checker"
   ]
  },
  {
   "cell_type": "code",
   "execution_count": 89,
   "id": "6c2ada5f-9156-4326-a409-3beec4f43fbe",
   "metadata": {},
   "outputs": [
    {
     "name": "stdout",
     "output_type": "stream",
     "text": [
      "You got an A\n",
      "You got a B\n",
      "You got a C\n",
      "You got a D\n",
      "You have failed the course\n"
     ]
    }
   ],
   "source": [
    "def check_grade(score):\n",
    "    if score >= 90:\n",
    "        print(\"You got an A\")\n",
    "    elif score >= 80:\n",
    "        print(\"You got a B\")\n",
    "    elif score >= 70:\n",
    "        print(\"You got a C\")\n",
    "    elif score >= 60:\n",
    "        print(\"You got a D\")\n",
    "    else:\n",
    "        print(\"You have failed the course\")\n",
    "\n",
    "# Try it\n",
    "check_grade(92)\n",
    "check_grade(89)\n",
    "check_grade(76)\n",
    "check_grade(66)\n",
    "check_grade(50)"
   ]
  },
  {
   "cell_type": "code",
   "execution_count": null,
   "id": "62879d57-817c-49e7-a36a-8cc1dff7ba2e",
   "metadata": {},
   "outputs": [],
   "source": []
  }
 ],
 "metadata": {
  "kernelspec": {
   "display_name": "Python 3 (ipykernel)",
   "language": "python",
   "name": "python3"
  },
  "language_info": {
   "codemirror_mode": {
    "name": "ipython",
    "version": 3
   },
   "file_extension": ".py",
   "mimetype": "text/x-python",
   "name": "python",
   "nbconvert_exporter": "python",
   "pygments_lexer": "ipython3",
   "version": "3.12.3"
  }
 },
 "nbformat": 4,
 "nbformat_minor": 5
}
